{
  "nbformat": 4,
  "nbformat_minor": 0,
  "metadata": {
    "colab": {
      "provenance": []
    },
    "kernelspec": {
      "name": "python3",
      "display_name": "Python 3"
    },
    "language_info": {
      "name": "python"
    }
  },
  "cells": [
    {
      "cell_type": "markdown",
      "source": [
        "# Worksheet 1: Introduction to Z3\n",
        "\n",
        "This is a worksheet for the first week of COMP3008.  There will be five worksheets in total, each designed to be completed within a week.  It is generally expected that a student will need more than the three computing class hours to complete a worksheet.\n",
        "\n",
        "Working on these worksheets is an essential part of the module and a great opportunity to prepare for the coursework project and exam.  We strongly advice showing your solutions to any of the teaching staff to discuss your approach and receive feedback.\n",
        "\n",
        "\n",
        "### Support\n",
        "\n",
        "You are encouraged to discuss worksheet exercises with your classmates.  (However, you cannot discuss the individual project with anyone except teaching staff.)\n"
      ],
      "metadata": {
        "id": "AkSKPdukZxVh"
      }
    },
    {
      "cell_type": "markdown",
      "source": [
        "## How to use Google Colab\n",
        "\n",
        "Google Colab is a platform that allows one to run Python code in a web application.  This means that you do not need to install any software on your computer and that your code is stored in the cloud.\n",
        "\n",
        "**You must make a copy of this notebook to your own Google Drive** (File -> Save a copy in Drive).  Changes that you make to this notebook will be lost once you close it!"
      ],
      "metadata": {
        "id": "zZp1xxooajhp"
      }
    },
    {
      "cell_type": "markdown",
      "source": [
        "## Z3 Theorem Prover\n",
        "\n",
        "The first software package that we will use in this module is called Z3 Theorem Prover.  It was developed by Microsoft and is considered to be one of the most advanced solvers in its class.  Wikipedia has an [article](https://en.wikipedia.org/wiki/Z3_Theorem_Prover) with a brief overview of Z3.\n",
        "\n",
        "The main purpose of Z3 is software verification, i.e. verification that a program will always work correctly.  (While it is impossible to answer this question in general -- you may have heard of the halting problem -- Z3 efficiently handles very complex cases.)  The language of Z3 is tailored for such tasks.  Nevertheless, Z3 is based on the first-order logic, and this is how we will use it.\n",
        "\n",
        "You will have to learn the relevant aspects of the language of Z3 on your own; this worksheet only explains a few basics, and the documentation on the web is scarce.  The expectation is that you will study the rest by trial and error -- which is common for such specialised software packages.\n"
      ],
      "metadata": {
        "id": "UHdo297NJFdp"
      }
    },
    {
      "cell_type": "markdown",
      "source": [
        "## Installation of the Python package\n",
        "\n",
        "Run the below command once, to install the Microsoft Z3 package.  This may take 20-30 seconds."
      ],
      "metadata": {
        "id": "hMWpteC3HBiZ"
      }
    },
    {
      "cell_type": "code",
      "execution_count": 1,
      "metadata": {
        "id": "C3ADBA-m5-A3",
        "colab": {
          "base_uri": "https://localhost:8080/"
        },
        "outputId": "9d04094a-5a45-4497-c763-748c053b4457"
      },
      "outputs": [
        {
          "output_type": "stream",
          "name": "stdout",
          "text": [
            "Collecting z3-solver\n",
            "  Downloading z3_solver-4.15.3.0-py3-none-manylinux_2_17_x86_64.manylinux2014_x86_64.whl.metadata (602 bytes)\n",
            "Downloading z3_solver-4.15.3.0-py3-none-manylinux_2_17_x86_64.manylinux2014_x86_64.whl (29.1 MB)\n",
            "\u001b[2K   \u001b[90m━━━━━━━━━━━━━━━━━━━━━━━━━━━━━━━━━━━━━━━━\u001b[0m \u001b[32m29.1/29.1 MB\u001b[0m \u001b[31m64.8 MB/s\u001b[0m eta \u001b[36m0:00:00\u001b[0m\n",
            "\u001b[?25hInstalling collected packages: z3-solver\n",
            "Successfully installed z3-solver-4.15.3.0\n"
          ]
        }
      ],
      "source": [
        "!pip install z3-solver"
      ]
    },
    {
      "cell_type": "markdown",
      "source": [
        "Z3 Solver accepts knowledge bases in the SMT2 format.  In the next few exercises, you will use the SMT2 language to encode some simple knowledge.  You do not need to understand the Python code below; its only function is to pass the SMT2 program to the Z3 solver and then run Z3 to check if the program is satisfiable and print the model."
      ],
      "metadata": {
        "id": "OdmNZMJkHezZ"
      }
    },
    {
      "cell_type": "code",
      "source": [
        "smt2program = \"\"\"\n",
        "(declare-const A Bool)\n",
        "(declare-const B Bool)\n",
        "(assert (and (xor A B) A))\n",
        "\"\"\"\n",
        "\n",
        "import z3\n",
        "\n",
        "s = z3.Solver()\n",
        "s.add(z3.parse_smt2_string(smt2program))\n",
        "status = s.check()\n",
        "print(status)\n",
        "if status == z3.sat:\n",
        "    print(s.model())"
      ],
      "metadata": {
        "colab": {
          "base_uri": "https://localhost:8080/"
        },
        "id": "Ap7Vs6r-62_s",
        "outputId": "3c3d6e4a-56be-45fe-8280-7148d32d13cf"
      },
      "execution_count": 2,
      "outputs": [
        {
          "output_type": "stream",
          "name": "stdout",
          "text": [
            "sat\n",
            "[A = True, B = False]\n"
          ]
        }
      ]
    },
    {
      "cell_type": "markdown",
      "source": [
        "## Exercises (part 1)"
      ],
      "metadata": {
        "id": "OIEnhmNINQvY"
      }
    },
    {
      "cell_type": "markdown",
      "source": [
        "1. Spend a minute to carefully read the above program (the content of the `smt2program` variable).  It is in the so-called parenthesised prefix notation, known for being used in LISP -- one of the first functional programming languages.  In this notation, each pair of parentheses is a function call, with the first word in the parentheses being the function name and the rest of the items being parameters.  Pay attention to the third line (the `assert' command); can you identify the FOL formula encoded there?"
      ],
      "metadata": {
        "id": "9uwTvzsM7FiW"
      }
    },
    {
      "cell_type": "markdown",
      "source": [
        "2. Run the code snippet above.  The output tells you that the program is _satisfiable_, and also gives the values of variables $A$ and $B$ that satisfies it -- a model.  Check that these values satisfy the formula encoded in line 3 of the SMT2 program."
      ],
      "metadata": {
        "id": "wMu7Y3DE8kpY"
      }
    },
    {
      "cell_type": "markdown",
      "source": [
        "3. Read the following very brief reference for the SMT2 language.\n",
        "\n",
        "    To comment out a line, place semicolon at the beginning of it:\n",
        "    ```\n",
        "    ; Z3 will ignore this line\n",
        "    ```\n",
        "    Every command in Z3 is a function call and has the following format:\n",
        "    ```\n",
        "    (<function name> <parameter 1> <parameter 2> ...)\n",
        "    ```\n",
        "    Each parameter can also be a function call.\n",
        "\n",
        "    A few functions you may need:\n",
        "\n",
        "    Function| Description\n",
        "    --------|-----------\n",
        "    `and`   | Logical and; can take more than two parameters\n",
        "    `or`    | Logical or; can take more than two parameters\n",
        "    `not`   | Logical not\n",
        "    `=>`    | Implication ($\\rightarrow$)\n",
        "    `=`     | Equivalence ($\\leftrightarrow$)\n",
        "    `declare-const` | Declares a constant; first parameter is the constant name; second parameter is the constant type\n",
        "    `assert` | Takes one parameter and demands that it evaluates to true\n"
      ],
      "metadata": {
        "id": "Rw-JkORT-9Tj"
      }
    },
    {
      "cell_type": "markdown",
      "source": [
        "4. Translate each of the following formulas into the SMT2 language and use Z3 to find the values of the constants that satisfy each of them (edit the `smt2program` content).  Check the answers by substituting them into the original formulas.\n",
        "\n",
        "   1. $A \\lor \\lnot B$\n",
        "   1. $(A \\lor \\lnot B \\lor \\lnot C) \\land B \\land C$\n",
        "   1. $((A \\rightarrow B) \\leftrightarrow (A \\land B)) \\land \\lnot B$\n",
        "   1. $((A \\land \\lnot B) \\lor (\\lnot A \\land B)) \\land (A \\leftrightarrow B) \\land \\lnot (C \\leftrightarrow B)$\n",
        "\n",
        "   (Note that not all these formulas are satisfiable.)"
      ],
      "metadata": {
        "id": "I91kkgFqARVl"
      }
    },
    {
      "cell_type": "code",
      "source": [
        "smt2program = \"\"\"\n",
        "(declare-const A Bool)\n",
        "(declare-const B Bool)\n",
        "(declare-const C Bool)\n",
        "(assert (and (or (and A (not B)) (and (not A) B)) (= A B) (not (= C B)) ))\n",
        "\n",
        "\"\"\"\n",
        "\n",
        "import z3\n",
        "\n",
        "s = z3.Solver()\n",
        "s.add(z3.parse_smt2_string(smt2program))\n",
        "status = s.check()\n",
        "print(status)\n",
        "if status == z3.sat:\n",
        "    print(s.model())"
      ],
      "metadata": {
        "id": "xtoVjNFtAQiY",
        "colab": {
          "base_uri": "https://localhost:8080/"
        },
        "outputId": "18839e75-60ad-4986-abb5-8102b7e0fe27"
      },
      "execution_count": 25,
      "outputs": [
        {
          "output_type": "stream",
          "name": "stdout",
          "text": [
            "unsat\n"
          ]
        }
      ]
    },
    {
      "cell_type": "markdown",
      "source": [
        "5. Z3 can handle non-Boolean variables.  For example, it can handle integers; just use `Int` instead of `Bool` when defining a constant.  The supported functions are `+`, `-`, `*`, `<`, `>`, etc.\n",
        "\n",
        "   Check the following example of a program.  It defines two integer constants and requests that $x + y < 10$ and $x > 8$.  Note that we can write multiple `assert` commands to demand multiple formulas to be satisfied.\n"
      ],
      "metadata": {
        "id": "5HX3b2JKA6HR"
      }
    },
    {
      "cell_type": "code",
      "source": [
        "smt2program = \"\"\"\n",
        "(declare-const x Int)\n",
        "(declare-const y Int)\n",
        "(assert (< (+ x y) 10) )\n",
        "(assert (> x 8 ))\n",
        "\"\"\"\n",
        "\n",
        "import z3\n",
        "\n",
        "s = z3.Solver()\n",
        "s.add(z3.parse_smt2_string(smt2program))\n",
        "status = s.check()\n",
        "print(status)\n",
        "if status == z3.sat:\n",
        "    print(s.model())"
      ],
      "metadata": {
        "id": "3Q3So7QF7GJ8",
        "colab": {
          "base_uri": "https://localhost:8080/"
        },
        "outputId": "0663169d-e9c8-4390-9a9b-ce0225b41a2c"
      },
      "execution_count": 26,
      "outputs": [
        {
          "output_type": "stream",
          "name": "stdout",
          "text": [
            "sat\n",
            "[x = 9, y = 0]\n"
          ]
        }
      ]
    },
    {
      "cell_type": "markdown",
      "source": [
        "6. Using Z3, find a solution to the following mathematical problem.\n",
        "\n",
        "   > Find a number $x$ that is greater than 1 and that is divisible by 3 and 7.  \n",
        "\n",
        "\n",
        "   There exist several solutions to this exercise; try finding one that does not require any new commands/functions."
      ],
      "metadata": {
        "id": "NowAS6UWM7sg"
      }
    },
    {
      "cell_type": "code",
      "source": [
        "smt2program = \"\"\"\n",
        "(declare-const x Int)\n",
        "(assert (> x 1))\n",
        "(assert (= (mod x 3) 0))\n",
        "(assert (= (mod x 7) 0))\n",
        "\"\"\"\n",
        "\n",
        "import z3\n",
        "\n",
        "s = z3.Solver()\n",
        "s.add(z3.parse_smt2_string(smt2program))\n",
        "status = s.check()\n",
        "print(status)\n",
        "if status == z3.sat:\n",
        "    print(s.model())"
      ],
      "metadata": {
        "id": "dHKckJLsBr9a",
        "colab": {
          "base_uri": "https://localhost:8080/"
        },
        "outputId": "e9bb5dfb-bde0-46c1-e57d-1d70905ca201"
      },
      "execution_count": 35,
      "outputs": [
        {
          "output_type": "stream",
          "name": "stdout",
          "text": [
            "sat\n",
            "[x = 21]\n"
          ]
        }
      ]
    },
    {
      "cell_type": "markdown",
      "source": [
        "7. Using Z3, find a solution to the following mathematical problem.  \n",
        "   \n",
        "   > There is a monotonically-increasing sequence of three integers from the interval $[1, 7]$; in other words, each next number is strictly greater than the previous number.\n",
        "   We know that the first and the second numbers are even (divisible by 2).  We also know that the third number is the sum of the first and the second numbers.\n",
        "   What are the numbers in the sequence?"
      ],
      "metadata": {
        "id": "1_S8Hb3mB-xJ"
      }
    },
    {
      "cell_type": "code",
      "source": [
        "smt2program = \"\"\"\n",
        "(declare-const x Int)\n",
        "(declare-const y Int)\n",
        "(declare-const z Int)\n",
        "(assert (> x 1))\n",
        "(assert (> y x))\n",
        "(assert (> z y))\n",
        "(assert (= (mod x 2) 0))\n",
        "(assert (= (mod y 2) 0))\n",
        "(assert (= (+ x y) z))\n",
        "\"\"\"\n",
        "\n",
        "import z3\n",
        "\n",
        "s = z3.Solver()\n",
        "s.add(z3.parse_smt2_string(smt2program))\n",
        "status = s.check()\n",
        "print(status)\n",
        "if status == z3.sat:\n",
        "    print(s.model())"
      ],
      "metadata": {
        "id": "08aXcn5dCLL-",
        "colab": {
          "base_uri": "https://localhost:8080/"
        },
        "outputId": "17114478-e9e1-402e-da80-3124312c5e74"
      },
      "execution_count": 37,
      "outputs": [
        {
          "output_type": "stream",
          "name": "stdout",
          "text": [
            "sat\n",
            "[x = 2, z = 6, y = 4]\n"
          ]
        }
      ]
    },
    {
      "cell_type": "markdown",
      "source": [
        "## Encoding Z3 programs without SMT2\n",
        "\n",
        "So far, you have seen that Z3 can magically solve mathematical problems, and you do not need to think about algorithms.  All you have to do is to formulate the requirements in a declarative language.  However you might have noticed that the SMT2 language (that language used by Z3) is not particularly user-friendly.\n",
        "\n",
        "Now let us learn how to use Z3 directly from a Python program (without the SMT2 language).  The skill you will acquire is not just about this specific combination (Z3 and Python); it is about the concept of using a general-purpose solver such as Z3 from a general-purpose programming language such as Python.\n",
        "\n",
        "Why Python?  It is concise and flexible which makes it ideal for working with external libraries.  It is a popular choice in applications of machine learning and other AI tools.\n",
        "\n",
        "Some of you might not have experience in Python.  This is OK; knowing how to write programs in any procedural language such as Java and some minimal understanding of the Python syntax will be sufficient in this module.  Also, learning a bit of Python along the way will certainly be good for your studies and career."
      ],
      "metadata": {
        "id": "wKHjYkoKG3Eh"
      }
    },
    {
      "cell_type": "markdown",
      "source": [
        "Below is an example of a Python program that encodes a single rule $A \\land \\lnot B$ and calls Z3 to find the values of $A$ and $B$ that satisfy the rule."
      ],
      "metadata": {
        "id": "w0tWP7F5HJML"
      }
    },
    {
      "cell_type": "code",
      "source": [
        "import z3\n",
        "\n",
        "s = z3.Solver()\n",
        "\n",
        "A = z3.Bool('A')\n",
        "B = z3.Bool('B')\n",
        "s.add(z3.And(A, z3.Not(B)))\n",
        "\n",
        "if s.check() == z3.unsat:\n",
        "    print('unsat')\n",
        "else:\n",
        "    print(f'A = {s.model().eval(A)}')\n",
        "    print(f'B = {s.model().eval(B)}')"
      ],
      "metadata": {
        "id": "tDcI-_JwHLMn"
      },
      "execution_count": null,
      "outputs": []
    },
    {
      "cell_type": "markdown",
      "source": [
        "Read it carefully.  Note how Boolean constants are defined.  The `add` function is equivalent of `assert` in the Z3 language; it adds an expression to the knowledge base.  Functions `Not`, `And`, etc. are provided by the Z3 library to encode logical expressions.  Function `s.check()` executes the reasoning algorithm of Z3.  The result of the function is `sat` if the knowledge base is satisfiable and `unsat` if it is not.\n",
        "It can also be `unknown` but this is unlikely to happen with simple examples.  The `s.model().eval` function gives you access to the model found by Z3; it returns the value of the given constant."
      ],
      "metadata": {
        "id": "iumE9nu1HNbM"
      }
    },
    {
      "cell_type": "markdown",
      "source": [
        "## Exercises (part 2)"
      ],
      "metadata": {
        "id": "0dyK5H9JHPoh"
      }
    },
    {
      "cell_type": "markdown",
      "source": [
        "8. Use the above approach to check satisfiability of the following formula:\n",
        "   $$\n",
        "   ((A \\land \\lnot B) \\lor (\\lnot A \\land B)) \\land (A \\leftrightarrow B) \\land \\lnot (C \\leftrightarrow B)\n",
        "   $$"
      ],
      "metadata": {
        "id": "DGD-p9IsHax5"
      }
    },
    {
      "cell_type": "code",
      "source": [
        "# Your solution to exercise 8\n",
        "\n",
        "import z3\n",
        "\n",
        "s = z3.Solver()\n",
        "A = z3.Bool('A')\n",
        "B = z3.Bool('B')\n",
        "C = z3.Bool('C')\n",
        "D = z3.Bool('D')\n",
        "s.add(z3.And (z3.Or (z3.And(A, z3.Not(B))), (z3.And(z3.Not(A), B)), A == B, z3.Not(C == B)))\n",
        "\n",
        "if s.check() == z3.unsat:\n",
        "    print('unsat')\n",
        "else:\n",
        "    print(f'A = {s.model().eval(A)}')\n",
        "    print(f'B = {s.model().eval(B)}')\n",
        "    print(f'C = {s.model().eval(C)}')\n",
        "    print(f'D = {s.model().eval(D)}')\n",
        "\n"
      ],
      "metadata": {
        "id": "DutNd5VxHgx6",
        "colab": {
          "base_uri": "https://localhost:8080/"
        },
        "outputId": "9e41761e-59e4-4d25-b257-5d1a12b6dae8"
      },
      "execution_count": 43,
      "outputs": [
        {
          "output_type": "stream",
          "name": "stdout",
          "text": [
            "unsat\n"
          ]
        }
      ]
    },
    {
      "cell_type": "markdown",
      "source": [
        "9. Encode your solution to exercise 7 directly in Python (without SMT2).  To create an integer constant, you will need function `z3.Int` instead of `z3.Bool`.  You can use operators such as `>=`, `+`, etc. to compose Z3 expressions.  All the Z3 library functions are [described here](https://z3prover.github.io/api/html/namespacez3py.html#func-members)."
      ],
      "metadata": {
        "id": "ipkWZYYFHjB2"
      }
    },
    {
      "cell_type": "code",
      "source": [
        "# Your solution to exercise 9\n",
        "\"\"\"(declare-const x Int)\n",
        "(declare-const y Int)\n",
        "(declare-const z Int)\n",
        "(assert (> x 1))\n",
        "(assert (> y x))\n",
        "(assert (> z y))\n",
        "(assert (= (mod x 2) 0))\n",
        "(assert (= (mod y 2) 0))\n",
        "(assert (= (+ x y) z))\n",
        "\n",
        "s.add(x  2 == 0)\n",
        "s.add(y mod 2 == 0)\n",
        "\"\"\"\n",
        "\n",
        "s = z3.Solver()\n",
        "x = z3.Int('x')\n",
        "y = z3.Int('y')\n",
        "z = z3.Int('z')\n",
        "s.add(x > 1)\n",
        "s.add(y > x)\n",
        "s.add(z > y)\n",
        "s.add(x % 2 == 0)\n",
        "s.add(y % 2 == 0)\n",
        "s.add(x + y == z)\n",
        "\n",
        "if s.check() == z3.unsat:\n",
        "    print('unsat')\n",
        "else:\n",
        "    print(f'x = {s.model().eval(x)}')\n",
        "    print(f'y = {s.model().eval(y)}')\n",
        "    print(f'z = {s.model().eval(z)}')\n"
      ],
      "metadata": {
        "id": "_i524IboHm8L",
        "colab": {
          "base_uri": "https://localhost:8080/"
        },
        "outputId": "bd66bd56-9492-4e61-de74-0512da90d7d5"
      },
      "execution_count": 48,
      "outputs": [
        {
          "output_type": "stream",
          "name": "stdout",
          "text": [
            "x = 2\n",
            "y = 4\n",
            "z = 6\n"
          ]
        }
      ]
    },
    {
      "cell_type": "markdown",
      "source": [
        "10.  Study the following Python script.  At what point does the program calculate $x + y$ and compare it to 4?  What exactly happens in line `s.add(x + y >= 4)`?  **It is crucial that you correctly understand the answer.**"
      ],
      "metadata": {
        "id": "plIQvrPSHmgT"
      }
    },
    {
      "cell_type": "code",
      "source": [
        "\n",
        "\n",
        "import z3\n",
        "\n",
        "s = z3.Solver()\n",
        "x = z3.Int('x')\n",
        "y = z3.Int('y')\n",
        "s.add(x + y >= 4)\n",
        "if s.check() == z3.unsat:\n",
        "    print('unsat')\n",
        "else:\n",
        "    print(f'x = {s.model().eval(x)}')\n",
        "    print(f'y = {s.model().eval(y)}')"
      ],
      "metadata": {
        "id": "pCc5SPc_HvcX"
      },
      "execution_count": null,
      "outputs": []
    },
    {
      "cell_type": "markdown",
      "source": [
        "Your answer to exercise 10:\n",
        "\n",
        " The line s.add(x + y >= 4) adds a logical constraint to the solver’s knowledge base. The solver only evaluates whether this expression can be satisfied with some assignment of integers to x and y during s.check(), if satisfiable, s.model() gives concrete assignment that satisfies the proposed expression."
      ],
      "metadata": {
        "id": "sh-SgA7QH1wU"
      }
    }
  ]
}